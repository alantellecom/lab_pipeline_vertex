{
 "cells": [
  {
   "cell_type": "code",
   "execution_count": null,
   "id": "ceab164f",
   "metadata": {
    "tags": []
   },
   "outputs": [],
   "source": [
    "!pip install kfp --upgrade"
   ]
  },
  {
   "cell_type": "code",
   "execution_count": 1,
   "id": "b0795861",
   "metadata": {},
   "outputs": [],
   "source": [
    "import kfp\n",
    "from kfp.v2 import dsl\n",
    "from kfp.v2.dsl import (Artifact,\n",
    "                        Dataset,\n",
    "                        Input,\n",
    "                        Model,\n",
    "                        Output,\n",
    "                        Metrics)\n",
    "\n",
    "from kfp.v2 import compiler\n",
    "\n",
    "from preproc_split_dataset import preproc_split_dataset\n",
    "from train import train_model\n",
    "from evaluate_model import evaluate_model\n",
    "#from helper_components import build_image\n",
    "#from helper_components import custom_deploy\n",
    "\n",
    "REGION = 'us-central1'\n",
    "PROJECT_ID = !(gcloud config get-value core/project)\n",
    "PROJECT_ID = PROJECT_ID[0]"
   ]
  },
  {
   "cell_type": "code",
   "execution_count": null,
   "id": "18306f1e",
   "metadata": {},
   "outputs": [],
   "source": [
    "!gsutil mb -p $PROJECT_ID  gs://kubeflow-lab-v2\n",
    "!gsutil ls"
   ]
  },
  {
   "cell_type": "code",
   "execution_count": 2,
   "id": "99fa3998",
   "metadata": {},
   "outputs": [],
   "source": [
    "root_path = \"gs://kubeflow-lab-v2\"\n",
    "\n",
    "@dsl.pipeline(\n",
    "    # Default pipeline root. You can override it when submitting the pipeline.\n",
    "    pipeline_root=root_path ,\n",
    "    # A name for the pipeline. Use to determine the pipeline Context.\n",
    "    name=\"pipeline-test-1\")\n",
    "\n",
    "\n",
    "def pipeline(alpha_val:float=0.001,max_iter_val:int=100,root_path:str=root_path):\n",
    "    dataset_op = preproc_split_dataset(root_path=root_path)\n",
    "    train_op = train_model(dataset_train=dataset_op.outputs[\"dataset_train\"],\n",
    "                           dataset_validation=dataset_op.outputs[\"dataset_validation\"],\n",
    "                           alpha=alpha_val,\n",
    "                           max_iter=max_iter_val,\n",
    "                           root_path=root_path\n",
    "                          )\n",
    "    eval_op = evaluate_model(\n",
    "        test_set=dataset_op.outputs[\"dataset_test\"],\n",
    "        model_artifact=train_op.outputs[\"model_artifact\"],\n",
    "        root_path=root_path\n",
    "    )"
   ]
  },
  {
   "cell_type": "code",
   "execution_count": 3,
   "id": "82e71b45",
   "metadata": {},
   "outputs": [],
   "source": [
    "compiler.Compiler().compile(pipeline_func=pipeline,\n",
    "        package_path='sklearn_pipe.json')"
   ]
  },
  {
   "cell_type": "code",
   "execution_count": null,
   "id": "719e9c0e",
   "metadata": {},
   "outputs": [],
   "source": []
  }
 ],
 "metadata": {
  "environment": {
   "name": "common-cpu.m75",
   "type": "gcloud",
   "uri": "gcr.io/deeplearning-platform-release/base-cpu:m75"
  },
  "kernelspec": {
   "display_name": "Python 3",
   "language": "python",
   "name": "python3"
  },
  "language_info": {
   "codemirror_mode": {
    "name": "ipython",
    "version": 3
   },
   "file_extension": ".py",
   "mimetype": "text/x-python",
   "name": "python",
   "nbconvert_exporter": "python",
   "pygments_lexer": "ipython3",
   "version": "3.7.10"
  }
 },
 "nbformat": 4,
 "nbformat_minor": 5
}
