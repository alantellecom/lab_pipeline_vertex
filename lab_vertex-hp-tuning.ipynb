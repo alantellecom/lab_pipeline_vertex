{
 "cells": [
  {
   "cell_type": "code",
   "execution_count": null,
   "id": "4472757b",
   "metadata": {
    "tags": []
   },
   "outputs": [],
   "source": [
    "!pip install kfp --upgrade"
   ]
  },
  {
   "cell_type": "code",
   "execution_count": null,
   "id": "de948c52",
   "metadata": {},
   "outputs": [],
   "source": [
    "!pip install -U google-cloud-pipeline-components"
   ]
  },
  {
   "cell_type": "code",
   "execution_count": 1,
   "id": "a4abb851",
   "metadata": {},
   "outputs": [],
   "source": [
    "import subprocess\n",
    "import google_cloud_pipeline_components.aiplatform as gcc_ai"
   ]
  },
  {
   "cell_type": "code",
   "execution_count": 2,
   "id": "e57d561d",
   "metadata": {},
   "outputs": [],
   "source": [
    "import kfp\n",
    "from kfp.v2 import dsl\n",
    "from kfp.v2.dsl import (Artifact,\n",
    "                        Dataset,\n",
    "                        Input,\n",
    "                        Model,\n",
    "                        Output,\n",
    "                        Metrics)\n",
    "\n",
    "from kfp.v2 import compiler\n",
    "\n",
    "from pipeline.hp_tuning import hyperparameter_tuning_job\n",
    "from pipeline.preproc_split_dataset import preproc_split_dataset"
   ]
  },
  {
   "cell_type": "code",
   "execution_count": 3,
   "id": "5ab9032a",
   "metadata": {},
   "outputs": [],
   "source": [
    "REGION = 'us-central1'\n",
    "PROJECT_ID = !(gcloud config get-value core/project)\n",
    "PROJECT_ID = PROJECT_ID[0]"
   ]
  },
  {
   "cell_type": "code",
   "execution_count": null,
   "id": "31b15606",
   "metadata": {},
   "outputs": [],
   "source": [
    "# ativar antes Cloud Resource Manager API\n",
    "project_number= subprocess.run(['gcloud', 'projects', 'describe', PROJECT_ID, '--format', 'value(projectNumber)'],\n",
    "               capture_output=True).stdout.decode('UTF-8').replace('\\n','')\n",
    "sa= '{}-compute@developer.gserviceaccount.com'.format(project_number)\n",
    "sa"
   ]
  },
  {
   "cell_type": "code",
   "execution_count": null,
   "id": "f26aa283",
   "metadata": {},
   "outputs": [],
   "source": [
    "!gsutil mb -p $PROJECT_ID  gs://kubeflow-lab-v2"
   ]
  },
  {
   "cell_type": "code",
   "execution_count": null,
   "id": "0773bc99",
   "metadata": {},
   "outputs": [],
   "source": [
    "!gsutil ls"
   ]
  },
  {
   "cell_type": "code",
   "execution_count": null,
   "id": "ec688cba",
   "metadata": {},
   "outputs": [],
   "source": [
    "!gsutil iam ch serviceAccount:$sa:objectAdmin gs://kubeflow-lab-v2/ # oferecer ao pipeline permissão para gerir gs"
   ]
  },
  {
   "cell_type": "code",
   "execution_count": 4,
   "id": "0cc0b85c",
   "metadata": {},
   "outputs": [],
   "source": [
    "root_path = \"gs://kubeflow-lab-v2\"\n",
    "project_id = PROJECT_ID\n",
    "custom_image = \"gcr.io/rugged-shell-320613/hp-tuning:v5\"\n",
    "hp_tuning_name = \"lab-hp\"\n",
    "\n",
    "@dsl.pipeline(\n",
    "    # Default pipeline root. You can override it when submitting the pipeline.\n",
    "    pipeline_root=root_path ,\n",
    "    # A name for the pipeline. Use to determine the pipeline Context.\n",
    "    name=\"pipeline-test-1\")\n",
    "\n",
    "\n",
    "def pipeline(root_path:str=root_path, project_id:str=project_id,hp_tuning_name:str=hp_tuning_name, custom_image:str=custom_image):\n",
    "    dataset_op = preproc_split_dataset(root_path=root_path)\n",
    "    hp_op = hyperparameter_tuning_job(dataset_train=dataset_op.outputs[\"dataset_train\"],\n",
    "                           dataset_validation=dataset_op.outputs[\"dataset_validation\"],\n",
    "                                      project=project_id,display_name=hp_tuning_name,image_uri=custom_image)"
   ]
  },
  {
   "cell_type": "code",
   "execution_count": 5,
   "id": "d925b733",
   "metadata": {},
   "outputs": [],
   "source": [
    "compiler.Compiler().compile(pipeline_func=pipeline,\n",
    "        package_path='sklearn_pipe_hp.json')"
   ]
  },
  {
   "cell_type": "code",
   "execution_count": null,
   "id": "eab2d834",
   "metadata": {},
   "outputs": [],
   "source": []
  }
 ],
 "metadata": {
  "environment": {
   "name": "tf2-gpu.2-5.m75",
   "type": "gcloud",
   "uri": "gcr.io/deeplearning-platform-release/tf2-gpu.2-5:m75"
  },
  "kernelspec": {
   "display_name": "Python 3",
   "language": "python",
   "name": "python3"
  },
  "language_info": {
   "codemirror_mode": {
    "name": "ipython",
    "version": 3
   },
   "file_extension": ".py",
   "mimetype": "text/x-python",
   "name": "python",
   "nbconvert_exporter": "python",
   "pygments_lexer": "ipython3",
   "version": "3.7.10"
  }
 },
 "nbformat": 4,
 "nbformat_minor": 5
}
