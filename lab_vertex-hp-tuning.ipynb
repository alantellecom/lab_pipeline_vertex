{
 "cells": [
  {
   "cell_type": "code",
   "execution_count": 1,
   "id": "7d6f87f0",
   "metadata": {},
   "outputs": [],
   "source": [
    "import subprocess\n",
    "import google_cloud_pipeline_components.aiplatform as gcc_ai"
   ]
  },
  {
   "cell_type": "code",
   "execution_count": 2,
   "id": "7f21d94c",
   "metadata": {},
   "outputs": [],
   "source": [
    "import kfp\n",
    "from kfp.v2 import dsl\n",
    "from kfp.v2.dsl import (Artifact,\n",
    "                        Dataset,\n",
    "                        Input,\n",
    "                        Model,\n",
    "                        Output,\n",
    "                        Metrics)\n",
    "\n",
    "from kfp.v2 import compiler\n",
    "\n",
    "\n",
    "from pipeline.preproc_split_dataset import preproc_split_dataset\n",
    "from pipeline.hp_tuning import hyperparameter_tuning_job\n",
    "from pipeline.train_best_hp import train_model\n",
    "from pipeline.evaluate_model import evaluate_model"
   ]
  },
  {
   "cell_type": "code",
   "execution_count": 3,
   "id": "8632f471",
   "metadata": {},
   "outputs": [],
   "source": [
    "REGION = 'us-central1'\n",
    "PROJECT_ID = !(gcloud config get-value core/project)\n",
    "PROJECT_ID = PROJECT_ID[0]"
   ]
  },
  {
   "cell_type": "code",
   "execution_count": 4,
   "id": "040bdf3d",
   "metadata": {},
   "outputs": [],
   "source": [
    "root_path = \"gs://kubeflow-lab-v2\"\n",
    "project_id = PROJECT_ID\n",
    "custom_image = \"gcr.io/rugged-shell-320613/hp-tuning:v5\"\n",
    "hp_tuning_name = \"lab-hp\"\n",
    "\n",
    "@dsl.pipeline(\n",
    "    # Default pipeline root. You can override it when submitting the pipeline.\n",
    "    pipeline_root=root_path ,\n",
    "    # A name for the pipeline. Use to determine the pipeline Context.\n",
    "    name=\"pipeline-test-1\")\n",
    "\n",
    "\n",
    "def pipeline(root_path:str=root_path, project_id:str=project_id,hp_tuning_name:str=hp_tuning_name, custom_image:str=custom_image):\n",
    "    \n",
    "    dataset_op = preproc_split_dataset(root_path=root_path)\n",
    "    \n",
    "    hp_op = hyperparameter_tuning_job(dataset_train=dataset_op.outputs[\"dataset_train\"],\n",
    "                           dataset_validation=dataset_op.outputs[\"dataset_validation\"],\n",
    "                            project=project_id,display_name=hp_tuning_name,image_uri=custom_image)\n",
    "    \n",
    "    train_op = train_model(dataset_train=dataset_op.outputs[\"dataset_train\"],\n",
    "                           dataset_validation=dataset_op.outputs[\"dataset_validation\"],\n",
    "                           best_hp_values=hp_op.outputs['best_hp_values'])\n",
    "    \n",
    "    eval_op = evaluate_model(test_set=dataset_op.outputs[\"dataset_test\"],\n",
    "                                model_artifact=train_op.outputs[\"model_artifact\"])"
   ]
  },
  {
   "cell_type": "code",
   "execution_count": 5,
   "id": "cb3f67f6",
   "metadata": {},
   "outputs": [],
   "source": [
    "compiler.Compiler().compile(pipeline_func=pipeline,\n",
    "        package_path='sklearn_pipe_hp.json')"
   ]
  },
  {
   "cell_type": "code",
   "execution_count": null,
   "id": "f5fb5685",
   "metadata": {},
   "outputs": [],
   "source": []
  }
 ],
 "metadata": {
  "environment": {
   "name": "tf2-gpu.2-5.m75",
   "type": "gcloud",
   "uri": "gcr.io/deeplearning-platform-release/tf2-gpu.2-5:m75"
  },
  "kernelspec": {
   "display_name": "Python 3",
   "language": "python",
   "name": "python3"
  },
  "language_info": {
   "codemirror_mode": {
    "name": "ipython",
    "version": 3
   },
   "file_extension": ".py",
   "mimetype": "text/x-python",
   "name": "python",
   "nbconvert_exporter": "python",
   "pygments_lexer": "ipython3",
   "version": "3.7.10"
  }
 },
 "nbformat": 4,
 "nbformat_minor": 5
}
